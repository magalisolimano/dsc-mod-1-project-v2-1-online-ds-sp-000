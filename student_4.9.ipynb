{
 "cells": [
  {
   "cell_type": "markdown",
   "metadata": {},
   "source": [
    "## Final Project Submission\n",
    "\n",
    "Please fill out:\n",
    "* Student name: Magali Solimano\n",
    "* Student pace: self paced \n",
    "* Scheduled project review date/time: \n",
    "* Instructor name: Jeff Herman\n",
    "* Blog post URL:\n"
   ]
  },
  {
   "cell_type": "code",
   "execution_count": null,
   "metadata": {},
   "outputs": [],
   "source": [
    "# Import libraries\n",
    "import pandas as pd\n",
    "import numpy as np\n",
    "import matplotlib.pyplot as plt\n",
    "%matplotlib inline \n",
    "import seaborn as sns "
   ]
  },
  {
   "cell_type": "code",
   "execution_count": null,
   "metadata": {},
   "outputs": [],
   "source": [
    "## Load the data (11 files)\n",
    "df1 = pd.read_csv('zippedData/bom.movie_gross.csv.gz', compression='gzip')\n",
    "df2 = pd.read_csv('zippedData/imdb.name.basics.csv.gz', compression='gzip')\n",
    "df3 = pd.read_csv('zippedData/imdb.title.akas.csv.gz', compression='gzip')\n",
    "df4 = pd.read_csv('zippedData/imdb.title.basics.csv.gz', compression='gzip') \n",
    "df5 = pd.read_csv('zippedData/imdb.title.crew.csv.gz', compression='gzip')\n",
    "df6 = pd.read_csv('zippedData/imdb.title.principals.csv.gz', compression='gzip')\n",
    "df7 = pd.read_csv('zippedData/imdb.title.ratings.csv.gz', compression='gzip')\n",
    "df8 = pd.read_csv('zippedData/rt.movie_info.tsv.gz', delimiter='\\t', compression='gzip')\n",
    "df9 = pd.read_csv('zippedData/rt.reviews.tsv.gz', compression='gzip', delimiter='\\t', encoding='iso-8859-1')\n",
    "df10 = pd.read_csv('zippedData/tmdb.movies.csv.gz', compression='gzip')\n",
    "df11 = pd.read_csv('zippedData/tn.movie_budgets.csv.gz', compression='gzip')"
   ]
  },
  {
   "cell_type": "code",
   "execution_count": null,
   "metadata": {},
   "outputs": [],
   "source": [
    "# Explore the dataframes and data types\n",
    "print(df1.info())\n",
    "df1.head()"
   ]
  },
  {
   "cell_type": "code",
   "execution_count": null,
   "metadata": {},
   "outputs": [],
   "source": [
    "print(df2.info())\n",
    "df2.head()"
   ]
  },
  {
   "cell_type": "code",
   "execution_count": null,
   "metadata": {},
   "outputs": [],
   "source": [
    "print(df3.info())\n",
    "df3.head()"
   ]
  },
  {
   "cell_type": "code",
   "execution_count": null,
   "metadata": {},
   "outputs": [],
   "source": [
    "print(df4.info())\n",
    "df4.head()"
   ]
  },
  {
   "cell_type": "code",
   "execution_count": null,
   "metadata": {},
   "outputs": [],
   "source": [
    "print(df5.info())\n",
    "df5.head()"
   ]
  },
  {
   "cell_type": "code",
   "execution_count": null,
   "metadata": {},
   "outputs": [],
   "source": [
    "print(df6.info())\n",
    "df6.head()"
   ]
  },
  {
   "cell_type": "code",
   "execution_count": null,
   "metadata": {},
   "outputs": [],
   "source": [
    "print(df7.info())\n",
    "df7.head()"
   ]
  },
  {
   "cell_type": "code",
   "execution_count": null,
   "metadata": {},
   "outputs": [],
   "source": [
    "print(df8.info())\n",
    "df8.head()"
   ]
  },
  {
   "cell_type": "code",
   "execution_count": null,
   "metadata": {},
   "outputs": [],
   "source": [
    "print(df9.info())\n",
    "df9.head()"
   ]
  },
  {
   "cell_type": "code",
   "execution_count": null,
   "metadata": {},
   "outputs": [],
   "source": [
    "print(df10.info())\n",
    "df10.head()"
   ]
  },
  {
   "cell_type": "code",
   "execution_count": null,
   "metadata": {},
   "outputs": [],
   "source": [
    "print(df11.info())\n",
    "df11.head()"
   ]
  },
  {
   "cell_type": "code",
   "execution_count": null,
   "metadata": {},
   "outputs": [],
   "source": []
  },
  {
   "cell_type": "code",
   "execution_count": null,
   "metadata": {},
   "outputs": [],
   "source": [
    "## QUESTION 1: What movies are the top revenue, ROI generators?"
   ]
  },
  {
   "cell_type": "code",
   "execution_count": null,
   "metadata": {},
   "outputs": [],
   "source": [
    "#df1 and #df11 have revenue cols -- compare these results. Can the dfs be joined?"
   ]
  },
  {
   "cell_type": "code",
   "execution_count": null,
   "metadata": {},
   "outputs": [],
   "source": [
    "# Convert budget and revenue cols to float dtype; release_date to datetime. Remove '$' and ','.\n",
    "df11['production_budget'] = df11['production_budget'].map(lambda x: float(x.replace(\"$\", \"\").replace(',','')))\n",
    "df11['domestic_gross'] = df11['domestic_gross'].map(lambda x: float(x.replace(\"$\", \"\").replace(',','')))\n",
    "df11['worldwide_gross'] = df11['worldwide_gross'].map(lambda x: float(x.replace(\"$\", \"\").replace(',','')))\n",
    "df11['release_date'] = pd.to_datetime(df11['release_date'])\n",
    "df11['year'] = pd.DatetimeIndex(df11['release_date']).year\n",
    "\n",
    "# Confirm that dtype conversions worked and that null values did not increase\n",
    "display(df11.info())"
   ]
  },
  {
   "cell_type": "code",
   "execution_count": null,
   "metadata": {},
   "outputs": [],
   "source": [
    "df11 = df11.rename(columns={\"movie\": \"title\"})\n",
    "df11.head()"
   ]
  },
  {
   "cell_type": "code",
   "execution_count": null,
   "metadata": {},
   "outputs": [],
   "source": [
    "# Compare top gross: df1 vs df11"
   ]
  },
  {
   "cell_type": "code",
   "execution_count": null,
   "metadata": {},
   "outputs": [],
   "source": [
    "display(df1.sort_values(by=['domestic_gross'], ascending=False).head(20))\n",
    "df11.sort_values(by=['domestic_gross'], ascending=False).head(20)"
   ]
  },
  {
   "cell_type": "code",
   "execution_count": null,
   "metadata": {},
   "outputs": [],
   "source": [
    "# There is overlap between df1 & df11. But, df11 has more movie entries (incl. several top revenue generators) that are not in df1.\n",
    "# df1 might not have a particular studio's movies."
   ]
  },
  {
   "cell_type": "code",
   "execution_count": null,
   "metadata": {},
   "outputs": [],
   "source": [
    "# Set index to title.\n",
    "# Join df11 and df1--left join to bring in df1's studio info. "
   ]
  },
  {
   "cell_type": "code",
   "execution_count": null,
   "metadata": {},
   "outputs": [],
   "source": [
    "df1.set_index('title', inplace = True)\n",
    "df1.head()"
   ]
  },
  {
   "cell_type": "code",
   "execution_count": null,
   "metadata": {},
   "outputs": [],
   "source": [
    "df11.set_index('title', inplace = True)\n",
    "df11.head()"
   ]
  },
  {
   "cell_type": "code",
   "execution_count": null,
   "metadata": {},
   "outputs": [],
   "source": [
    "df_financials = df11.join(df1, how='left', rsuffix='_right')\n",
    "display(df_financials.info())\n",
    "df_financials.head()"
   ]
  },
  {
   "cell_type": "code",
   "execution_count": null,
   "metadata": {},
   "outputs": [],
   "source": [
    "# Drop df1 revenue data since they seem to round, while df11's revenue data is more precise.\n",
    "# Drop foreign_gross, year_right."
   ]
  },
  {
   "cell_type": "code",
   "execution_count": null,
   "metadata": {},
   "outputs": [],
   "source": [
    "df_financials = df_financials.drop(columns=['domestic_gross_right', 'foreign_gross', 'year_right'])"
   ]
  },
  {
   "cell_type": "code",
   "execution_count": null,
   "metadata": {},
   "outputs": [],
   "source": [
    "# Convert \"0\" values to NaN\n",
    "df_financials['production_budget'] = df_financials['production_budget'].replace(0.0, np.nan)\n",
    "df_financials['domestic_gross'] = df_financials['domestic_gross'].replace(0.0, np.nan)\n",
    "df_financials['worldwide_gross'] = df_financials['worldwide_gross'].replace(0.0, np.nan)\n",
    "\n",
    "\n",
    "# Convert values to millions\n",
    "df_financials['production_budget_m'] = (df_financials['production_budget'] / 1000000).round(1)\n",
    "df_financials['domestic_gross_m'] = (df_financials['domestic_gross'] / 1000000).round(1)\n",
    "df_financials['worldwide_gross_m'] = (df_financials['worldwide_gross'] / 1000000).round(1)\n",
    "\n",
    "df_financials.head(10)"
   ]
  },
  {
   "cell_type": "code",
   "execution_count": null,
   "metadata": {},
   "outputs": [],
   "source": [
    "# Create new cols for foreign_gross, net_revenue, ROI\n",
    "df_financials['foreign_gross_m'] = (df_financials['worldwide_gross_m'] - df_financials['domestic_gross_m']).round(1)\n",
    "df_financials['net_revenue_m'] = (df_financials['worldwide_gross_m'] - df_financials['production_budget_m']).round(1)\n",
    "df_financials['ROI'] = ((df_financials['worldwide_gross'] - df_financials['production_budget']) / df_financials['production_budget']).round(2)\n",
    "df_financials['ROIpct'] = (((df_financials['worldwide_gross'] - df_financials['production_budget']) / df_financials['production_budget'])*100).round(2)\n",
    "df_financials.head()"
   ]
  },
  {
   "cell_type": "code",
   "execution_count": null,
   "metadata": {},
   "outputs": [],
   "source": [
    "# reset index\n",
    "df_financials.reset_index(inplace = True)"
   ]
  },
  {
   "cell_type": "code",
   "execution_count": null,
   "metadata": {},
   "outputs": [],
   "source": [
    "# Check for duplicates. Explore if need to remove or can keep.\n",
    "df_financials['title'].value_counts()"
   ]
  },
  {
   "cell_type": "code",
   "execution_count": null,
   "metadata": {},
   "outputs": [],
   "source": [
    "df_financials[df_financials['title'].duplicated() == True]"
   ]
  },
  {
   "cell_type": "code",
   "execution_count": null,
   "metadata": {},
   "outputs": [],
   "source": [
    "# view selection of rows with duplicate titles\n",
    "df_financials.sort_values('title').iloc[231:250, :]"
   ]
  },
  {
   "cell_type": "code",
   "execution_count": null,
   "metadata": {},
   "outputs": [],
   "source": [
    "# Duplicate movie titles are due to movie being re-released years later. \n",
    "# Keep all rows and create new col 'title_yr'. \n",
    "df_financials['title_yr'] = df_financials['title'].str.cat(df_financials.year.astype(str), sep = '-')\n",
    "df_financials.head()"
   ]
  },
  {
   "cell_type": "code",
   "execution_count": null,
   "metadata": {},
   "outputs": [],
   "source": [
    "df_financials[df_financials['title_yr'].duplicated() == True]"
   ]
  },
  {
   "cell_type": "code",
   "execution_count": null,
   "metadata": {},
   "outputs": [],
   "source": [
    "df_financials.sort_values('title').iloc[2017:2022, :]"
   ]
  },
  {
   "cell_type": "code",
   "execution_count": null,
   "metadata": {},
   "outputs": [],
   "source": [
    "# Home movie - Double entry for 2009 release--unable to determine which one has accurate data, both appear to have notable outliers. Remove two 2009 entries.\n",
    "df_financials = df_financials.drop([2019, 2020])"
   ]
  },
  {
   "cell_type": "code",
   "execution_count": null,
   "metadata": {},
   "outputs": [],
   "source": [
    "df_financials[df_financials['title_yr'].duplicated() == True]"
   ]
  },
  {
   "cell_type": "code",
   "execution_count": null,
   "metadata": {},
   "outputs": [],
   "source": [
    "df_financials.sort_values('title').iloc[2017:2022, :]"
   ]
  },
  {
   "cell_type": "code",
   "execution_count": null,
   "metadata": {},
   "outputs": [],
   "source": [
    "# Create month col\n",
    "df_financials['month_num'] = pd.DatetimeIndex(df_financials['release_date']).month\n",
    "df_financials['month'] = pd.to_datetime(df_financials['month_num'], format='%m').dt.month_name().str.slice(stop=3)\n",
    "df_financials.head()"
   ]
  },
  {
   "cell_type": "code",
   "execution_count": null,
   "metadata": {},
   "outputs": [],
   "source": [
    "# Examine distribution of data"
   ]
  },
  {
   "cell_type": "code",
   "execution_count": null,
   "metadata": {},
   "outputs": [],
   "source": [
    "display(df_financials.info())\n",
    "display(df_financials[[\"production_budget_m\", \"domestic_gross_m\", \"worldwide_gross_m\", \"foreign_gross_m\", \"net_revenue_m\", \"ROI\"]].apply(['mean', 'median', 'std']))\n",
    "display(df_financials.quantile(q=0.75))\n",
    "display(df_financials.quantile(q=0.85))\n",
    "display(df_financials.quantile(q=0.90))\n",
    "display(df_financials.quantile(q=0.95))\n",
    "display(df_financials.quantile(q=0.99))"
   ]
  },
  {
   "cell_type": "code",
   "execution_count": null,
   "metadata": {},
   "outputs": [],
   "source": [
    "# Domestic and worldwide gross revenue, net revenue, ROI are positively skewed--mean is larger than median, with large outliers distorting the mean."
   ]
  },
  {
   "cell_type": "code",
   "execution_count": null,
   "metadata": {},
   "outputs": [],
   "source": [
    "df_financials.boxplot(column=['worldwide_gross_m'])"
   ]
  },
  {
   "cell_type": "code",
   "execution_count": null,
   "metadata": {},
   "outputs": [],
   "source": [
    "df_financials.boxplot(column=['ROI'])"
   ]
  },
  {
   "cell_type": "code",
   "execution_count": null,
   "metadata": {},
   "outputs": [],
   "source": [
    "# Number of movies in 75th, 90th, 99th percentiles - By worldwide gross revenue\n",
    "print(f\"Number of movies in 75th percentile: {len(df_financials[df_financials['worldwide_gross_m']>1.044750e+02])}\")    \n",
    "print(f\"Number of movies in 90th percentile: {len(df_financials[df_financials['worldwide_gross_m']>2.596100e+02])}\")\n",
    "print(f\"Number of movies in 95th percentile: {len(df_financials[df_financials['worldwide_gross_m']>4.103150e+02])}\")\n",
    "print(f\"Number of movies in 99th percentile: {len(df_financials[df_financials['worldwide_gross_m']>8.938990e+02])}\")"
   ]
  },
  {
   "cell_type": "code",
   "execution_count": null,
   "metadata": {},
   "outputs": [],
   "source": [
    "# Q1: What movies are the top gross revenue generators? (including outliers)\n",
    "\n",
    "# Create new df - movies with gross revenue above 90th percentile\n",
    "df_grossrev_99p = df_financials[df_financials.worldwide_gross_m >= 8.938658e+02].sort_values('worldwide_gross_m', ascending = False)\n",
    "display(df_grossrev_99p.shape)\n",
    "\n",
    "# top 25\n",
    "df_grossrev_top25 = df_financials.sort_values('worldwide_gross_m', ascending = False).head(25)\n",
    "display(df_grossrev_top25.shape)"
   ]
  },
  {
   "cell_type": "code",
   "execution_count": null,
   "metadata": {},
   "outputs": [],
   "source": [
    "# Graph gross revenue movies\n",
    "\n",
    "ax1 = df_grossrev_99p.plot.barh(x= 'title', \n",
    "                                y= 'worldwide_gross_m', \n",
    "                                color = 'blue', \n",
    "                                stacked=False, \n",
    "                                rot=0, \n",
    "                                figsize=(12,10), \n",
    "                                label = '_nolegend_')\n",
    "ax1.set(\n",
    "    title='Top Revenue Grossing Movies',\n",
    "    xlabel='Millions $',\n",
    "    ylabel='Movies')\n",
    "ax1.invert_yaxis()\n",
    "\n",
    "ax2 = df_grossrev_99p.plot.barh(x= 'title', \n",
    "                                y = 'ROIpct', \n",
    "                                color = 'green', \n",
    "                                stacked=False, \n",
    "                                rot=0, \n",
    "                                figsize=(12,10),\n",
    "                                label = '_nolegend_')\n",
    "\n",
    "ax2.set(\n",
    "    title='ROI of Top Revenue Grossing Movies',\n",
    "    xlabel='ROI (%)',\n",
    "    ylabel='Movies')\n",
    "ax2.invert_yaxis()\n",
    "\n",
    "plt.style.use('ggplot')\n",
    "plt.show()"
   ]
  },
  {
   "cell_type": "code",
   "execution_count": null,
   "metadata": {},
   "outputs": [],
   "source": [
    "# Q2: Is movie industry profitable? Analysis w/o outliers and from year 2000 - present\n",
    "\n",
    "# Create ROI df, remove NaN\n",
    "df_roi = df_financials[df_financials['ROI'].notnull()]\n",
    "display(df_financials.describe())\n",
    "df_roi.describe()"
   ]
  },
  {
   "cell_type": "code",
   "execution_count": null,
   "metadata": {},
   "outputs": [],
   "source": [
    "# Outlier detection\n",
    "min_roi_threshold, max_roi_threshold = df_roi['ROI'].quantile([0.00, 0.90]).round(2)\n",
    "min_roi_threshold, max_roi_threshold"
   ]
  },
  {
   "cell_type": "code",
   "execution_count": null,
   "metadata": {},
   "outputs": [],
   "source": [
    "df_roi[df_roi['ROI'] > max_roi_threshold]"
   ]
  },
  {
   "cell_type": "code",
   "execution_count": null,
   "metadata": {},
   "outputs": [],
   "source": [
    "# new DF without ROI outliers and with movies from year 2000 - present\n",
    "df_roi = df_roi[(df_roi['ROI'] < max_roi_threshold) & \n",
    "                       (df_roi['ROI'] > min_roi_threshold) & \n",
    "                       (df_roi['year'] >= 2000)]\n",
    "display(df_roi.sort_values('ROI', ascending = False).head(10))"
   ]
  },
  {
   "cell_type": "code",
   "execution_count": null,
   "metadata": {},
   "outputs": [],
   "source": [
    "fig, ax = plt.subplots(figsize=(6,6))\n",
    "ax.hist(df_roi['ROI'], bins='auto', alpha = 0.5)\n",
    "ax.set_title('Distribution of ROI')\n",
    "ax.set_xlabel('ROI')\n",
    "ax.set_ylabel('Number of Movies')\n",
    "ax.axvline(df_roi['ROI'].mean(), color = 'black')\n",
    "ax.axvline(df_roi['ROI'].median(), color = 'red')"
   ]
  },
  {
   "cell_type": "code",
   "execution_count": null,
   "metadata": {},
   "outputs": [],
   "source": [
    "display(df_roi.ROI.apply(['mean', 'median', 'std']))"
   ]
  },
  {
   "cell_type": "code",
   "execution_count": null,
   "metadata": {},
   "outputs": [],
   "source": [
    "df_roi.boxplot(column=['ROI'])"
   ]
  },
  {
   "cell_type": "code",
   "execution_count": null,
   "metadata": {},
   "outputs": [],
   "source": [
    "#create new ROI buckets column \n",
    "def ROI_buckets(r):\n",
    "    if r < 0: \n",
    "        return 'Not profitable'\n",
    "    if r <= 1 : \n",
    "        return '0 - 100%'\n",
    "    elif r <= 2: \n",
    "        return '100% - 200%'\n",
    "    elif r <= 3: \n",
    "        return '200% - 300%'\n",
    "    elif r <= 4: \n",
    "        return '300% - 400%'\n",
    "    elif r <= 5: \n",
    "        return '400% - 500%'\n",
    "    elif r <= 6: \n",
    "        return '500% - 600%'    \n",
    "    elif r <= 7:\n",
    "        return '600% - 700&'\n",
    "    elif r <= 8:\n",
    "        return '700% - 800%'\n",
    "    else: \n",
    "        return 'Other'\n",
    "\n",
    "df_roi['ROI_buckets'] = df_roi['ROI'].apply(ROI_buckets)\n",
    "display(df_roi.head(10))\n",
    "df_roi.info()"
   ]
  },
  {
   "cell_type": "code",
   "execution_count": null,
   "metadata": {},
   "outputs": [],
   "source": [
    "#Distribution of ROI by year\n",
    "df_roi_yr = df_roi.groupby('year')['ROI_buckets'].value_counts(normalize = True)\n",
    "df_roi_yr.tail(10)"
   ]
  },
  {
   "cell_type": "code",
   "execution_count": null,
   "metadata": {},
   "outputs": [],
   "source": [
    "# Analysis of ROI of movies in 90th percentile by ROI and after year 2000 (3,676 total movies)\n",
    "df_roi_yr_median = df_roi.groupby(['year']).agg(['median'])\n",
    "df_roi_yr_median"
   ]
  },
  {
   "cell_type": "code",
   "execution_count": null,
   "metadata": {},
   "outputs": [],
   "source": [
    "# Graph median and mean ROI \n",
    "\n",
    "df_roi_yr_median['ROIpct'].plot.bar(figsize=(10,6), color = 'green')\n",
    "plt.title('Median ROI - Movies in 90th percentile', fontsize = 12)\n",
    "plt.xlabel('Year', fontsize = 12)\n",
    "plt.ylabel('ROI', fontsize = 12)\n",
    "\n",
    "plt.style.use('ggplot')"
   ]
  },
  {
   "cell_type": "code",
   "execution_count": null,
   "metadata": {},
   "outputs": [],
   "source": [
    "# Graph ROI of movies in 90th percentile by ROI and after year 2000 (3,676 total movies)\n",
    "\n",
    "#df_roi['ROI_buckets'].value_counts(normalize = True).plot.bar(figsize=(10,6), color = 'green')\n",
    "#plt.title('ROI - Movies in 90th percentile', fontsize = 12)\n",
    "#plt.xlabel('Worldwide gross revenue / production budget', fontsize = 12)\n",
    "#plt.ylabel('Share of movies', fontsize = 12)\n",
    "\n",
    "#plt.style.use('ggplot')"
   ]
  },
  {
   "cell_type": "code",
   "execution_count": null,
   "metadata": {},
   "outputs": [],
   "source": [
    "df_roi_pct = ((df_roi.groupby(['year', 'ROI_buckets'])['ROI_buckets'].count()/df_roi.groupby(['year'])['ROI_buckets'].count()))*100\n",
    "display(df_roi_pct.head(5))"
   ]
  },
  {
   "cell_type": "code",
   "execution_count": null,
   "metadata": {},
   "outputs": [],
   "source": [
    "from matplotlib import cm\n",
    "viridis = cm.get_cmap('viridis', 9)"
   ]
  },
  {
   "cell_type": "code",
   "execution_count": null,
   "metadata": {},
   "outputs": [],
   "source": [
    "ax = df_roi_pct.unstack().plot.bar(stacked = True, figsize=(14,8), color=viridis.colors)\n",
    "\n",
    "ax.set_title('ROI - Movies in 90th percentile', fontsize = 14)\n",
    "ax.set_xlabel('Year', fontsize = 12)\n",
    "ax.set_ylabel('Percent of movies (%)', fontsize = 12)\n",
    "ax.yaxis.set_ticks(np.arange(0, 110, 10))\n",
    "ax.tick_params(labeltop=False, labelright=True)\n",
    "\n",
    "# Reverse legend order\n",
    "handles, labels = ax.get_legend_handles_labels()\n",
    "ax.legend(reversed(handles), reversed(labels), loc='center left', bbox_to_anchor=(1.1,0.5))\n",
    "\n",
    "plt.show()"
   ]
  },
  {
   "cell_type": "code",
   "execution_count": null,
   "metadata": {},
   "outputs": [],
   "source": [
    "## Explore distributions and relationships\n",
    "df_roi.plot.scatter(x = 'ROIpct',\n",
    "                       y = 'production_budget', \n",
    "                       c = 'blue', \n",
    "                   figsize = (10,6))\n",
    "\n",
    "from scipy.stats import linregress\n",
    "x = df_roi.ROIpct\n",
    "y = df_roi.production_budget\n",
    "stats = linregress(x, y)\n",
    "\n",
    "m = stats.slope\n",
    "b = stats.intercept\n",
    "\n",
    "# Set the linewidth on the regression line to 3px\n",
    "plt.plot(x, m * x + b, color=\"red\", linewidth=3)\n",
    "\n",
    "plt.title('Relationship between ROI and Production Budget', fontsize = 12)\n",
    "plt.xlabel('ROI (%)', fontsize = 12)\n",
    "plt.ylabel('Production Budget ($)', fontsize = 12)\n",
    "\n",
    "plt.show()"
   ]
  },
  {
   "cell_type": "code",
   "execution_count": null,
   "metadata": {},
   "outputs": [],
   "source": [
    "df_roi.groupby('ROI_buckets').production_budget.median().plot.bar(figsize=(14,8))\n",
    "plt.title('Production Budget', fontsize = 12)\n",
    "plt.xlabel('ROI', fontsize = 12)\n",
    "plt.ylabel('Production Budget ($)', fontsize = 12)"
   ]
  },
  {
   "cell_type": "code",
   "execution_count": null,
   "metadata": {},
   "outputs": [],
   "source": [
    "df_roi_yr_median.reset_index(inplace = True)\n",
    "df_roi_yr_median.head()"
   ]
  },
  {
   "cell_type": "code",
   "execution_count": null,
   "metadata": {},
   "outputs": [],
   "source": [
    "yr = df_roi_yr_median[['year']]\n",
    "worldwide_gross = df_roi_yr_median[['worldwide_gross_m']]\n",
    "production_budget = df_roi_yr_median[['production_budget_m']]\n",
    "\n",
    "df_roi_comp = df_roi_yr_median[['year','worldwide_gross_m','production_budget_m']]\n",
    "df_roi_comp = df_roi_comp.rename(columns = {'year':'Year', 'worldwide_gross_m': 'Gross Revenue', 'production_budget_m': 'Production Budget'})\n",
    "df_roi_comp.head()\n",
    "\n"
   ]
  },
  {
   "cell_type": "code",
   "execution_count": null,
   "metadata": {},
   "outputs": [],
   "source": [
    "# Graph gross revenue and production budget by year\n",
    "\n",
    "df_roi_comp.plot(x=\"Year\", y=[\"Production Budget\", \"Gross Revenue\"], kind=\"bar\", figsize=(14,8))\n",
    "plt.title('Gross Revenue and Production Budget', fontsize = 12)\n",
    "plt.xlabel('Year', fontsize = 12)\n",
    "plt.yticks(np.arange (0, 75, 5))\n",
    "plt.ylabel('Millions ($)', fontsize = 12)\n",
    "\n",
    "plt.legend()"
   ]
  },
  {
   "cell_type": "code",
   "execution_count": null,
   "metadata": {},
   "outputs": [],
   "source": [
    "df_roi_comp_from2014 = df_roi_yr_median[['year','worldwide_gross_m','production_budget_m']][df_roi_yr_median['year']>=2014]\n",
    "df_roi_comp_from2014.head()"
   ]
  },
  {
   "cell_type": "code",
   "execution_count": null,
   "metadata": {},
   "outputs": [],
   "source": [
    "df_roi_comp_from2014.plot.scatter(x = 'worldwide_gross_m',\n",
    "                       y = 'production_budget_m', \n",
    "                       c = 'blue', \n",
    "                   figsize = (10,6))\n",
    "\n",
    "from scipy.stats import linregress\n",
    "x = df_roi_comp_from2014.worldwide_gross_m\n",
    "y = df_roi_comp_from2014.production_budget_m\n",
    "#stats = linregress(x, y)\n",
    "\n",
    "m = stats.slope\n",
    "b = stats.intercept\n",
    "\n",
    "# Set the linewidth on the regression line to 3px\n",
    "#plt.plot(x, m * x + b, color=\"red\", linewidth=3)\n",
    "\n",
    "plt.title('Relationship between Gross Revenue and Production Budget', fontsize = 12)\n",
    "plt.xlabel('Gross Revenue', fontsize = 12)\n",
    "plt.ylabel('Production Budget', fontsize = 12)\n",
    "\n",
    "plt.show()"
   ]
  },
  {
   "cell_type": "code",
   "execution_count": null,
   "metadata": {},
   "outputs": [],
   "source": []
  },
  {
   "cell_type": "code",
   "execution_count": null,
   "metadata": {},
   "outputs": [],
   "source": []
  },
  {
   "cell_type": "code",
   "execution_count": null,
   "metadata": {},
   "outputs": [],
   "source": []
  },
  {
   "cell_type": "code",
   "execution_count": null,
   "metadata": {},
   "outputs": [],
   "source": [
    "## ROI and year movie released\n",
    "df_roi.plot.scatter(x = 'year',\n",
    "                       y = 'ROI', \n",
    "                       c = 'blue', \n",
    "                   figsize = (10,6))\n",
    "\n",
    "plt.title('Relationship between ROI and Year', fontsize = 12)\n",
    "plt.xlabel('Year', fontsize = 12)\n",
    "plt.ylabel('ROI (X)', fontsize = 12)\n",
    "\n",
    "plt.show()"
   ]
  },
  {
   "cell_type": "code",
   "execution_count": null,
   "metadata": {},
   "outputs": [],
   "source": [
    "# ROI and month movie released\n",
    "df_roi.plot.scatter(x = 'ROIpct',\n",
    "                       y = 'month', \n",
    "                       c = 'blue', \n",
    "                   figsize = (10,6))\n",
    "\n",
    "x = df_roi.ROIpct\n",
    "y = df_roi.month\n",
    "stats = linregress(x, y)\n",
    "\n",
    "m = stats.slope\n",
    "b = stats.intercept\n",
    "\n",
    "# Set the linewidth on the regression line to 3px\n",
    "plt.plot(x, m * x + b, color=\"red\", linewidth=3)\n",
    "\n",
    "plt.title('Relationship between ROI and Release Month', fontsize = 12)\n",
    "plt.xlabel('ROI (%)', fontsize = 12)\n",
    "plt.ylabel('Month', fontsize = 12)\n",
    "\n",
    "plt.show()"
   ]
  },
  {
   "cell_type": "code",
   "execution_count": null,
   "metadata": {},
   "outputs": [],
   "source": [
    "df_roi.head()"
   ]
  },
  {
   "cell_type": "code",
   "execution_count": null,
   "metadata": {},
   "outputs": [],
   "source": []
  },
  {
   "cell_type": "code",
   "execution_count": null,
   "metadata": {},
   "outputs": [],
   "source": []
  },
  {
   "cell_type": "code",
   "execution_count": null,
   "metadata": {},
   "outputs": [],
   "source": [
    "# NET REVENUE"
   ]
  },
  {
   "cell_type": "code",
   "execution_count": null,
   "metadata": {},
   "outputs": [],
   "source": [
    "# Number of movies in 75th, 99th percentiles - By worldwide net revenue\n",
    "print(f\"Number of movies in 75th percentile: {len(df_revenue[df_revenue['net_revenue']>6.735617e+07])}\")    \n",
    "print(f\"Number of movies in 99.5 percentile: {len(df_revenue[df_revenue['net_revenue']>3.187214e+08])}\")\n",
    "print(f\"Number of movies in 99.9 percentile: {len(df_revenue[df_revenue['net_revenue']>7.646151e+08])}\")"
   ]
  },
  {
   "cell_type": "code",
   "execution_count": null,
   "metadata": {},
   "outputs": [],
   "source": [
    "# Identify top movies by worldwide net revenue\n",
    "df_revenue.sort_values(by = ['net_revenue'], axis=0, ascending=[False], inplace=False,\n",
    "               na_position='last', ignore_index=True)[['title', 'net_revenue', 'ROI', 'production_budget']].head()"
   ]
  },
  {
   "cell_type": "code",
   "execution_count": null,
   "metadata": {},
   "outputs": [],
   "source": [
    "# Identify movies with worldwide net revenue in 99.9 percentile\n",
    "\n",
    "# Create new df\n",
    "df_nr_999p = df_revenue[df_revenue.net_revenue >= 7.646151e+08].sort_values('net_revenue', ascending = False)\n",
    "df_nr_999p.head()\n",
    "\n",
    "# how to use .loc?\n",
    "#nr_99_3p = df_revenue['net_revenue'].loc[lambda x: x>8.407595e+08].sort_values(ascending = False, ignore_index = True)\n",
    "#nr_99_3p = df_revenue[['title','net_revenue']]['net_revenue'].loc[lambda x: x>8.407595e+08].sort_values(ascending = False, ignore_index = True)"
   ]
  },
  {
   "cell_type": "code",
   "execution_count": null,
   "metadata": {},
   "outputs": [],
   "source": [
    "# Graph net revenue and ROI of movies in 99.9 percentile by net revenue\n",
    "\n",
    "ax1 = df_nr_999p.plot.barh(x= 'title', y= 'net_revenue', color = 'blue', stacked=False, rot=0, figsize=(12,10))\n",
    "ax1.set(\n",
    "    title='Net Revenue - Movies in 99th Percentile',\n",
    "    xlabel='Billions $',\n",
    "    ylabel='Movies')\n",
    "ax1.invert_yaxis()\n",
    "\n",
    "ax2 = df_nr_999p.plot.barh(x= 'title', y = 'ROI', color = 'green', stacked=False, rot=0, figsize=(12,10))\n",
    "ax2.set(\n",
    "    title='ROI - Movies in 99th Percentile by Net Revenue',\n",
    "    xlabel='ROI (x)',\n",
    "    ylabel='Movies')\n",
    "ax2.invert_yaxis()\n",
    "\n",
    "plt.style.use('ggplot')\n",
    "plt.show()"
   ]
  },
  {
   "cell_type": "code",
   "execution_count": null,
   "metadata": {},
   "outputs": [],
   "source": []
  },
  {
   "cell_type": "code",
   "execution_count": null,
   "metadata": {},
   "outputs": [],
   "source": []
  },
  {
   "cell_type": "code",
   "execution_count": null,
   "metadata": {},
   "outputs": [],
   "source": []
  },
  {
   "cell_type": "code",
   "execution_count": null,
   "metadata": {},
   "outputs": [],
   "source": []
  },
  {
   "cell_type": "code",
   "execution_count": null,
   "metadata": {},
   "outputs": [],
   "source": [
    "# merge df_ROI_v2 with df4 (has info on genres, run time)"
   ]
  },
  {
   "cell_type": "code",
   "execution_count": null,
   "metadata": {},
   "outputs": [],
   "source": [
    "## Explore distributions and relationships\n",
    "pd.plotting.scatter_matrix(df_revenue[['production_budget', 'domestic_gross', 'foreign_gross', 'worldwide_net_revenue']], figsize=(6,6));\n",
    "plt.show()"
   ]
  },
  {
   "cell_type": "code",
   "execution_count": null,
   "metadata": {},
   "outputs": [],
   "source": []
  },
  {
   "cell_type": "code",
   "execution_count": null,
   "metadata": {},
   "outputs": [],
   "source": [
    "# Join with df4, which has info on genres, runtime, etc.\n",
    "df4.head()"
   ]
  },
  {
   "cell_type": "code",
   "execution_count": null,
   "metadata": {},
   "outputs": [],
   "source": [
    "df4 = df4.rename(columns={\"primary_title\": \"title\"})\n",
    "df4.head()"
   ]
  },
  {
   "cell_type": "code",
   "execution_count": null,
   "metadata": {},
   "outputs": [],
   "source": [
    "df4['title_yr'] = df4['title'].str.cat(df4.start_year.astype(str), sep = '-')\n",
    "df4.head()"
   ]
  },
  {
   "cell_type": "code",
   "execution_count": null,
   "metadata": {},
   "outputs": [],
   "source": [
    "df4.title.value_counts()"
   ]
  },
  {
   "cell_type": "code",
   "execution_count": null,
   "metadata": {},
   "outputs": [],
   "source": [
    "df4.title_yr.value_counts()"
   ]
  },
  {
   "cell_type": "code",
   "execution_count": null,
   "metadata": {},
   "outputs": [],
   "source": [
    "df_main = df_revenue.join(df4, how='left', rsuffix='_right')"
   ]
  },
  {
   "cell_type": "code",
   "execution_count": null,
   "metadata": {},
   "outputs": [],
   "source": []
  },
  {
   "cell_type": "code",
   "execution_count": null,
   "metadata": {},
   "outputs": [],
   "source": []
  },
  {
   "cell_type": "code",
   "execution_count": null,
   "metadata": {},
   "outputs": [],
   "source": []
  },
  {
   "cell_type": "code",
   "execution_count": null,
   "metadata": {},
   "outputs": [],
   "source": [
    "# QUESTIONS"
   ]
  },
  {
   "cell_type": "code",
   "execution_count": null,
   "metadata": {},
   "outputs": [],
   "source": [
    "# glyphs"
   ]
  },
  {
   "cell_type": "code",
   "execution_count": null,
   "metadata": {},
   "outputs": [],
   "source": []
  },
  {
   "cell_type": "code",
   "execution_count": null,
   "metadata": {},
   "outputs": [],
   "source": []
  },
  {
   "cell_type": "code",
   "execution_count": null,
   "metadata": {},
   "outputs": [],
   "source": [
    "## Clean up: Rename columns, convert dtypes to prepare dfs for joins and analysis"
   ]
  },
  {
   "cell_type": "code",
   "execution_count": null,
   "metadata": {},
   "outputs": [],
   "source": [
    "df2 = df2.rename(columns={\"nconst\": \"name_id\"})\n",
    "df2.head()"
   ]
  },
  {
   "cell_type": "code",
   "execution_count": null,
   "metadata": {},
   "outputs": [],
   "source": [
    "df4 = df4.rename(columns={\"tconst\": \"title_id\"})\n",
    "df4.head()"
   ]
  },
  {
   "cell_type": "code",
   "execution_count": null,
   "metadata": {},
   "outputs": [],
   "source": [
    "df5 = df5.rename(columns={\"tconst\": \"title_id\"})\n",
    "df5.head()"
   ]
  },
  {
   "cell_type": "code",
   "execution_count": null,
   "metadata": {},
   "outputs": [],
   "source": [
    "df6 = df6.rename(columns={\"tconst\": \"title_id\", \"nconst\": \"name_id\"})\n",
    "df6.head()"
   ]
  },
  {
   "cell_type": "code",
   "execution_count": null,
   "metadata": {},
   "outputs": [],
   "source": [
    "df7 = df7.rename(columns={\"tconst\": \"title_id\"})\n",
    "df7.head()"
   ]
  },
  {
   "cell_type": "code",
   "execution_count": null,
   "metadata": {},
   "outputs": [],
   "source": [
    "df8['theater_date'] = pd.to_datetime(df8['theater_date'])\n",
    "df8['dvd_date'] = pd.to_datetime(df8['dvd_date'])\n",
    "df8.info()"
   ]
  },
  {
   "cell_type": "code",
   "execution_count": null,
   "metadata": {},
   "outputs": [],
   "source": [
    "df8 = df8.rename(columns={\"runtime\": \"runtime_mins\"})\n",
    "df8['runtime_mins'] = df8['runtime_mins'].str.rstrip('minutes')\n",
    "df8.head()"
   ]
  },
  {
   "cell_type": "code",
   "execution_count": null,
   "metadata": {},
   "outputs": [],
   "source": []
  },
  {
   "cell_type": "code",
   "execution_count": null,
   "metadata": {},
   "outputs": [],
   "source": [
    "df10['release_date'] = pd.to_datetime(df10['release_date'])\n",
    "df10.info()"
   ]
  },
  {
   "cell_type": "code",
   "execution_count": null,
   "metadata": {},
   "outputs": [],
   "source": []
  },
  {
   "cell_type": "code",
   "execution_count": null,
   "metadata": {},
   "outputs": [],
   "source": [
    "## Calculate worldwide_net_revenue and foreign_gross (revenue generated outside of US)\n",
    "df11['worldwide_net_revenue'] = df11.worldwide_gross - df11.production_budget\n",
    "df11['foreign_gross'] = df11.worldwide_gross - df11.domestic_gross"
   ]
  },
  {
   "cell_type": "code",
   "execution_count": null,
   "metadata": {},
   "outputs": [],
   "source": []
  },
  {
   "cell_type": "code",
   "execution_count": null,
   "metadata": {},
   "outputs": [],
   "source": [
    "## Explore distributions and relationships\n",
    "pd.plotting.scatter_matrix(df11[['production_budget', 'domestic_gross', 'foreign_gross','worldwide_gross', 'worldwide_net_revenue']], figsize=(6,6));\n",
    "plt.show()"
   ]
  },
  {
   "cell_type": "code",
   "execution_count": null,
   "metadata": {},
   "outputs": [],
   "source": [
    "df11.apply(['mean', 'median', 'std'])"
   ]
  },
  {
   "cell_type": "code",
   "execution_count": null,
   "metadata": {},
   "outputs": [],
   "source": [
    "# Explore distribution of worldwide_net_revenue\n",
    "fig, ax = plt.subplots(figsize=(6,6))\n",
    "ax.hist(df11['worldwide_net_revenue'], bins='auto', alpha = 0.5)\n",
    "ax.set_title('Distribution of Worldwide Net Revenue')\n",
    "ax.set_xlabel('Net Revenue ($ Billions)')\n",
    "ax.set_ylabel('Number of Movies')\n",
    "ax.axvline(df11['worldwide_net_revenue'].mean(), color = 'black')\n",
    "ax.axvline(df11['worldwide_net_revenue'].median(), color = 'red')"
   ]
  },
  {
   "cell_type": "code",
   "execution_count": null,
   "metadata": {},
   "outputs": [],
   "source": [
    "df11['worldwide_net_revenue'].describe()"
   ]
  },
  {
   "cell_type": "code",
   "execution_count": null,
   "metadata": {},
   "outputs": [],
   "source": [
    "# Worldwide net revenue is positively skewed--mean is larger than median, with large outliers distorting the mean.\n",
    "# Identify movies with above-median worldwide net revenue\n",
    "above_median_worldwide_net_revenue = []\n",
    "\n",
    "#df11.query('worldwide_net_revenue'>=8.550286e+06)\n",
    "\n",
    "movies = df11.movie.values\n",
    "#ww_net_rev = df11.worldwide_net_revenue.values\n",
    "\n",
    "if df11['worldwide_net_revenue'] >= 8.550286e+06:\n",
    "    above_median_worldwide_net_revenue.append()\n",
    "\n",
    "above_median_worldwide_net_revenue"
   ]
  },
  {
   "cell_type": "code",
   "execution_count": null,
   "metadata": {},
   "outputs": [],
   "source": [
    "# Explore distribution of worldwide_net_revenue\n",
    "\n",
    "fig, ax = plt.subplots(4, figsize=(10,8))\n",
    "ax1 = plt.subplot(1,4,1)\n",
    "ax1.hist(df_revenue['net_revenue'], bins='auto', color = 'green', alpha = 0.5)\n",
    "ax1.set_title('Net Revenue', fontsize = 10)\n",
    "ax1.set_xlabel('Dollars $', fontsize = 10)\n",
    "ax1.set_ylabel('Number of Movies', fontsize = 10)\n",
    "ax1.axvline(df_revenue['net_revenue'].mean(), color = 'black')\n",
    "\n",
    "ax2 = plt.subplot(1,4,2)\n",
    "ax2.hist(df_revenue['domestic_gross'], bins='auto', color = 'green', alpha = 0.5)\n",
    "ax2.set_title('Domestic Gross Revenue' , fontsize = 10)\n",
    "ax2.set_xlabel('Dollars $', fontsize = 10)\n",
    "ax2.axvline(df_revenue['domestic_gross'].mean(), color = 'black')\n",
    "\n",
    "ax3 = plt.subplot(1,4,3)\n",
    "ax3.hist(df_revenue['foreign_gross'], bins='auto', color = 'green', alpha = 0.5)\n",
    "ax3.set_title('Foreign Gross Revenue', fontsize = 10)\n",
    "ax3.set_xlabel('Dollars $', fontsize = 10)\n",
    "ax3.axvline(df_revenue['foreign_gross'].mean(), color = 'black')\n",
    "\n",
    "ax4 = plt.subplot(1,4,4)\n",
    "ax4.hist(df_revenue['production_budget'], bins='auto', color = 'green', alpha = 0.5)\n",
    "ax4.set_title('Production Budget', fontsize = 10)\n",
    "ax4.set_xlabel('Dollars $', fontsize = 10)\n",
    "ax4.axvline(df_revenue['production_budget'].mean(), color = 'black')\n",
    "\n",
    "#plt.style.use('ggplot')\n",
    "plt.show()"
   ]
  }
 ],
 "metadata": {
  "kernelspec": {
   "display_name": "Python 3",
   "language": "python",
   "name": "python3"
  },
  "language_info": {
   "codemirror_mode": {
    "name": "ipython",
    "version": 3
   },
   "file_extension": ".py",
   "mimetype": "text/x-python",
   "name": "python",
   "nbconvert_exporter": "python",
   "pygments_lexer": "ipython3",
   "version": "3.6.9"
  }
 },
 "nbformat": 4,
 "nbformat_minor": 2
}
