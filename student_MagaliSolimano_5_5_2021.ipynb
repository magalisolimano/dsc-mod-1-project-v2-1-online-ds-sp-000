{
 "cells": [
  {
   "cell_type": "markdown",
   "metadata": {},
   "source": [
    "## Final Project Submission\n",
    "\n",
    "Please fill out:\n",
    "* Student name: Magali Solimano\n",
    "* Student pace: self paced \n",
    "* Scheduled project review date/time: \n",
    "* Instructor name: Jeff Herman\n",
    "* Blog post URL:\n"
   ]
  },
  {
   "cell_type": "code",
   "execution_count": null,
   "metadata": {},
   "outputs": [],
   "source": [
    "# Import libraries\n",
    "import pandas as pd\n",
    "import numpy as np\n",
    "import matplotlib.pyplot as plt\n",
    "%matplotlib inline\n",
    "import seaborn as sns"
   ]
  },
  {
   "cell_type": "code",
   "execution_count": null,
   "metadata": {},
   "outputs": [],
   "source": [
    "## Load the data (11 files)\n",
    "df1 = pd.read_csv('zippedData/bom.movie_gross.csv.gz', compression='gzip')\n",
    "df2 = pd.read_csv('zippedData/imdb.name.basics.csv.gz', compression='gzip')\n",
    "df3 = pd.read_csv('zippedData/imdb.title.akas.csv.gz', compression='gzip')\n",
    "df4 = pd.read_csv('zippedData/imdb.title.basics.csv.gz', compression='gzip') \n",
    "df5 = pd.read_csv('zippedData/imdb.title.crew.csv.gz', compression='gzip')\n",
    "df6 = pd.read_csv('zippedData/imdb.title.principals.csv.gz', compression='gzip')\n",
    "df7 = pd.read_csv('zippedData/imdb.title.ratings.csv.gz', compression='gzip')\n",
    "df8 = pd.read_csv('zippedData/rt.movie_info.tsv.gz', delimiter='\\t', compression='gzip')\n",
    "df9 = pd.read_csv('zippedData/rt.reviews.tsv.gz', compression='gzip', delimiter='\\t', encoding='iso-8859-1')\n",
    "df10 = pd.read_csv('zippedData/tmdb.movies.csv.gz', compression='gzip')\n",
    "df11 = pd.read_csv('zippedData/tn.movie_budgets.csv.gz', compression='gzip')"
   ]
  },
  {
   "cell_type": "code",
   "execution_count": null,
   "metadata": {},
   "outputs": [],
   "source": [
    "# Explore the dataframes and data types\n",
    "print(df1.info())\n",
    "df1.head()"
   ]
  },
  {
   "cell_type": "code",
   "execution_count": null,
   "metadata": {},
   "outputs": [],
   "source": [
    "print(df2.info())\n",
    "df2.head()"
   ]
  },
  {
   "cell_type": "code",
   "execution_count": null,
   "metadata": {},
   "outputs": [],
   "source": [
    "print(df3.info())\n",
    "df3.head()"
   ]
  },
  {
   "cell_type": "code",
   "execution_count": null,
   "metadata": {},
   "outputs": [],
   "source": [
    "print(df4.info())\n",
    "df4.head()"
   ]
  },
  {
   "cell_type": "code",
   "execution_count": null,
   "metadata": {},
   "outputs": [],
   "source": [
    "print(df5.info())\n",
    "df5.head()"
   ]
  },
  {
   "cell_type": "code",
   "execution_count": null,
   "metadata": {},
   "outputs": [],
   "source": [
    "print(df6.info())\n",
    "df6.head()"
   ]
  },
  {
   "cell_type": "code",
   "execution_count": null,
   "metadata": {},
   "outputs": [],
   "source": [
    "print(df7.info())\n",
    "df7.head()"
   ]
  },
  {
   "cell_type": "code",
   "execution_count": null,
   "metadata": {},
   "outputs": [],
   "source": [
    "print(df8.info())\n",
    "df8.head()"
   ]
  },
  {
   "cell_type": "code",
   "execution_count": null,
   "metadata": {},
   "outputs": [],
   "source": [
    "print(df9.info())\n",
    "df9.head()"
   ]
  },
  {
   "cell_type": "code",
   "execution_count": null,
   "metadata": {},
   "outputs": [],
   "source": [
    "print(df10.info())\n",
    "df10.head()"
   ]
  },
  {
   "cell_type": "code",
   "execution_count": null,
   "metadata": {},
   "outputs": [],
   "source": [
    "print(df11.info())\n",
    "df11.head()"
   ]
  },
  {
   "cell_type": "code",
   "execution_count": null,
   "metadata": {},
   "outputs": [],
   "source": [
    "## QUESTIONS - PART 1: WHAT MOVIES ARE TOP REVENUE AND ROI GENERATORS? WHAT ARE THE TOP STUDIOS?"
   ]
  },
  {
   "cell_type": "code",
   "execution_count": null,
   "metadata": {},
   "outputs": [],
   "source": [
    "#df1 and #df11 have revenue cols -- compare these results. Can the dfs be joined?"
   ]
  },
  {
   "cell_type": "code",
   "execution_count": null,
   "metadata": {},
   "outputs": [],
   "source": [
    "# Convert budget and revenue cols to float dtype; release_date to datetime. Remove '$' and ','.\n",
    "df11['production_budget'] = df11['production_budget'].map(lambda x: float(x.replace(\"$\", \"\").replace(',','')))\n",
    "df11['domestic_gross'] = df11['domestic_gross'].map(lambda x: float(x.replace(\"$\", \"\").replace(',','')))\n",
    "df11['worldwide_gross'] = df11['worldwide_gross'].map(lambda x: float(x.replace(\"$\", \"\").replace(',','')))\n",
    "df11['release_date'] = pd.to_datetime(df11['release_date'])\n",
    "df11['year'] = pd.DatetimeIndex(df11['release_date']).year\n",
    "\n",
    "# Confirm that dtype conversions worked and that null values did not increase\n",
    "display(df11.info())"
   ]
  },
  {
   "cell_type": "code",
   "execution_count": null,
   "metadata": {},
   "outputs": [],
   "source": [
    "df11 = df11.rename(columns={\"movie\": \"title\"})\n",
    "df11.head()"
   ]
  },
  {
   "cell_type": "code",
   "execution_count": null,
   "metadata": {},
   "outputs": [],
   "source": [
    "# Compare top gross: df1 vs df11"
   ]
  },
  {
   "cell_type": "code",
   "execution_count": null,
   "metadata": {},
   "outputs": [],
   "source": [
    "display(df1.sort_values(by=['domestic_gross'], ascending=False).head(20))\n",
    "df11.sort_values(by=['domestic_gross'], ascending=False).head(20)"
   ]
  },
  {
   "cell_type": "code",
   "execution_count": null,
   "metadata": {},
   "outputs": [],
   "source": [
    "# There is overlap between df1 & df11. But, df11 has more movie entries (incl. several top revenue generators) that are not in df1.\n",
    "# df1 might not have a particular studio's movies."
   ]
  },
  {
   "cell_type": "code",
   "execution_count": null,
   "metadata": {},
   "outputs": [],
   "source": [
    "# Set index to title.\n",
    "# Join df11 and df1--left join to bring in df1's studio info. "
   ]
  },
  {
   "cell_type": "code",
   "execution_count": null,
   "metadata": {},
   "outputs": [],
   "source": [
    "df1.set_index('title', inplace = True)\n",
    "df11.set_index('title', inplace = True)"
   ]
  },
  {
   "cell_type": "code",
   "execution_count": null,
   "metadata": {},
   "outputs": [],
   "source": [
    "df_financials = df11.join(df1, how='left', rsuffix='_right')\n",
    "display(df_financials.info())\n",
    "df_financials.head()"
   ]
  },
  {
   "cell_type": "code",
   "execution_count": null,
   "metadata": {},
   "outputs": [],
   "source": [
    "# Drop df1 revenue data since they seem to round, while df11's revenue data is more precise.\n",
    "# Drop foreign_gross, year_right."
   ]
  },
  {
   "cell_type": "code",
   "execution_count": null,
   "metadata": {},
   "outputs": [],
   "source": [
    "df_financials = df_financials.drop(columns=['domestic_gross_right', 'foreign_gross', 'year_right'])"
   ]
  },
  {
   "cell_type": "code",
   "execution_count": null,
   "metadata": {},
   "outputs": [],
   "source": [
    "# Convert \"0\" values to NaN\n",
    "df_financials['production_budget'] = df_financials['production_budget'].replace(0.0, np.nan)\n",
    "df_financials['domestic_gross'] = df_financials['domestic_gross'].replace(0.0, np.nan)\n",
    "df_financials['worldwide_gross'] = df_financials['worldwide_gross'].replace(0.0, np.nan)\n",
    "\n",
    "\n",
    "# Convert values to millions\n",
    "df_financials['production_budget_m'] = (df_financials['production_budget'] / 1000000).round(1)\n",
    "df_financials['domestic_gross_m'] = (df_financials['domestic_gross'] / 1000000).round(1)\n",
    "df_financials['worldwide_gross_m'] = (df_financials['worldwide_gross'] / 1000000).round(1)\n",
    "\n",
    "df_financials.head(10)"
   ]
  },
  {
   "cell_type": "code",
   "execution_count": null,
   "metadata": {},
   "outputs": [],
   "source": [
    "# Create new cols for foreign_gross, net_revenue, ROI\n",
    "df_financials['foreign_gross_m'] = (df_financials['worldwide_gross_m'] - df_financials['domestic_gross_m']).round(1)\n",
    "df_financials['net_revenue_m'] = (df_financials['worldwide_gross_m'] - df_financials['production_budget_m']).round(1)\n",
    "df_financials['ROI'] = ((df_financials['worldwide_gross'] - df_financials['production_budget']) / df_financials['production_budget']).round(2)\n",
    "df_financials['ROIpct'] = (((df_financials['worldwide_gross'] - df_financials['production_budget']) / df_financials['production_budget'])*100).round(2)\n",
    "df_financials.head()"
   ]
  },
  {
   "cell_type": "code",
   "execution_count": null,
   "metadata": {},
   "outputs": [],
   "source": [
    "# reset index\n",
    "df_financials.reset_index(inplace = True)"
   ]
  },
  {
   "cell_type": "code",
   "execution_count": null,
   "metadata": {},
   "outputs": [],
   "source": [
    "# Check for duplicates. Explore if need to remove or can keep.\n",
    "df_financials['title'].value_counts()"
   ]
  },
  {
   "cell_type": "code",
   "execution_count": null,
   "metadata": {},
   "outputs": [],
   "source": [
    "df_financials[df_financials['title'].duplicated() == True]"
   ]
  },
  {
   "cell_type": "code",
   "execution_count": null,
   "metadata": {},
   "outputs": [],
   "source": [
    "# view selection of rows with duplicate titles\n",
    "df_financials.sort_values('title').iloc[231:250, :]"
   ]
  },
  {
   "cell_type": "code",
   "execution_count": null,
   "metadata": {},
   "outputs": [],
   "source": [
    "# Duplicate movie titles are due to movie being re-released years later. \n",
    "# Keep all rows and create new col 'title_yr'. \n",
    "df_financials['title_yr'] = df_financials['title'].str.cat(df_financials.year.astype(str), sep = '-')\n",
    "df_financials.head()"
   ]
  },
  {
   "cell_type": "code",
   "execution_count": null,
   "metadata": {},
   "outputs": [],
   "source": [
    "df_financials[df_financials['title_yr'].duplicated() == True]"
   ]
  },
  {
   "cell_type": "code",
   "execution_count": null,
   "metadata": {},
   "outputs": [],
   "source": [
    "df_financials.sort_values('title').iloc[2017:2022, :]"
   ]
  },
  {
   "cell_type": "code",
   "execution_count": null,
   "metadata": {},
   "outputs": [],
   "source": [
    "# Home movie - Double entry for 2009 release--unable to determine which one has accurate data, both appear to have notable outliers. Remove two 2009 entries.\n",
    "df_financials = df_financials.drop([2019, 2020])"
   ]
  },
  {
   "cell_type": "code",
   "execution_count": null,
   "metadata": {},
   "outputs": [],
   "source": [
    "df_financials[df_financials['title_yr'].duplicated() == True]"
   ]
  },
  {
   "cell_type": "code",
   "execution_count": null,
   "metadata": {},
   "outputs": [],
   "source": [
    "df_financials.sort_values('title').iloc[2017:2022, :]"
   ]
  },
  {
   "cell_type": "code",
   "execution_count": null,
   "metadata": {},
   "outputs": [],
   "source": [
    "# Create month col\n",
    "df_financials['month_num'] = pd.DatetimeIndex(df_financials['release_date']).month\n",
    "df_financials['month'] = pd.to_datetime(df_financials['month_num'], format='%m').dt.month_name().str.slice(stop=3)\n",
    "df_financials.head()"
   ]
  },
  {
   "cell_type": "code",
   "execution_count": null,
   "metadata": {},
   "outputs": [],
   "source": [
    "# Examine distribution of data"
   ]
  },
  {
   "cell_type": "code",
   "execution_count": null,
   "metadata": {},
   "outputs": [],
   "source": [
    "display(df_financials.info())\n",
    "display(df_financials[[\"production_budget_m\", \"domestic_gross_m\", \"worldwide_gross_m\", \"foreign_gross_m\", \"net_revenue_m\", \"ROI\"]].apply(['mean', 'median', 'std']))\n",
    "display(df_financials.quantile(q=0.75))\n",
    "display(df_financials.quantile(q=0.90))\n",
    "display(df_financials.quantile(q=0.95))\n",
    "display(df_financials.quantile(q=0.99))"
   ]
  },
  {
   "cell_type": "code",
   "execution_count": null,
   "metadata": {},
   "outputs": [],
   "source": [
    "# Domestic and worldwide gross revenue, net revenue, ROI are positively skewed--mean is larger than median, with large outliers distorting the mean."
   ]
  },
  {
   "cell_type": "code",
   "execution_count": null,
   "metadata": {},
   "outputs": [],
   "source": [
    "df_financials.hist(column=['worldwide_gross_m'], bins=50)"
   ]
  },
  {
   "cell_type": "code",
   "execution_count": null,
   "metadata": {},
   "outputs": [],
   "source": [
    "df_financials.boxplot(column=['worldwide_gross_m'])"
   ]
  },
  {
   "cell_type": "code",
   "execution_count": null,
   "metadata": {},
   "outputs": [],
   "source": [
    "df_financials.boxplot(column=['ROI'])"
   ]
  },
  {
   "cell_type": "code",
   "execution_count": null,
   "metadata": {},
   "outputs": [],
   "source": [
    "# Number of movies in 75th, 90th, 99th percentiles - By worldwide gross revenue\n",
    "print(f\"Number of movies in 75th percentile: {len(df_financials[df_financials['worldwide_gross_m']>1.044750e+02])}\")    \n",
    "print(f\"Number of movies in 90th percentile: {len(df_financials[df_financials['worldwide_gross_m']>2.596100e+02])}\")\n",
    "print(f\"Number of movies in 95th percentile: {len(df_financials[df_financials['worldwide_gross_m']>4.103150e+02])}\")\n",
    "print(f\"Number of movies in 99th percentile: {len(df_financials[df_financials['worldwide_gross_m']>8.938990e+02])}\")"
   ]
  },
  {
   "cell_type": "code",
   "execution_count": null,
   "metadata": {},
   "outputs": [],
   "source": [
    "# Q1: What movies are the top gross revenue generators? (including outliers)\n",
    "\n",
    "# Create new df - movies with gross revenue above 90th percentile\n",
    "df_grossrev_99p = df_financials[df_financials.worldwide_gross_m >= 8.938658e+02].sort_values('worldwide_gross_m', ascending = False)\n",
    "display(df_grossrev_99p.shape)\n",
    "\n",
    "# top 25\n",
    "df_grossrev_top25 = df_financials.sort_values('worldwide_gross_m', ascending = False).head(25)\n",
    "display(df_grossrev_top25.shape)"
   ]
  },
  {
   "cell_type": "code",
   "execution_count": null,
   "metadata": {},
   "outputs": [],
   "source": [
    "# Graph gross revenue movies\n",
    "\n",
    "ax1 = df_grossrev_99p.plot.barh(x= 'title', \n",
    "                                y= 'worldwide_gross_m', \n",
    "                                color = 'green', \n",
    "                                stacked=False, \n",
    "                                rot=0, \n",
    "                                figsize=(12,12), \n",
    "                                label = '_nolegend_')\n",
    "ax1.set(\n",
    "    title='Top Revenue Grossing Movies',\n",
    "    xlabel='Millions $',\n",
    "    ylabel='Movies')\n",
    "ax1.invert_yaxis()\n",
    "\n",
    "ax2 = df_grossrev_99p.plot.barh(x= 'title', \n",
    "                                y = 'ROIpct', \n",
    "                                color = 'green', \n",
    "                                stacked=False, \n",
    "                                rot=0, \n",
    "                                figsize=(12,10),\n",
    "                                label = '_nolegend_')\n",
    "\n",
    "ax2.set(\n",
    "    title='ROI of Top Revenue Grossing Movies',\n",
    "    xlabel='ROI (%)',\n",
    "    ylabel='Movies')\n",
    "ax2.invert_yaxis()\n",
    "\n",
    "plt.style.use('ggplot')\n",
    "plt.show()"
   ]
  },
  {
   "cell_type": "code",
   "execution_count": null,
   "metadata": {},
   "outputs": [],
   "source": [
    "fig, ax1 = plt.subplots(figsize=(14,9))\n",
    "\n",
    "title = df_grossrev_99p['title']\n",
    "ww_gross = df_grossrev_99p['worldwide_gross_m']\n",
    "ROIp = df_grossrev_99p['ROIpct']\n",
    "\n",
    "ax2 = ax1.twinx()\n",
    "ax1.bar(title, ww_gross, color='lightsteelblue')\n",
    "ax2.plot(title, ROIp, marker = '.', markersize = 12, color='navy', linestyle='None')\n",
    "\n",
    "#ax1.set_xlabel('Movie')\n",
    "ax1.set_xticklabels(title, rotation=90, ha='center')\n",
    "\n",
    "ax1.set_ylabel('Gross Revenue (Millions $)', color='gray')\n",
    "ax1.set_yticks(np.arange (0, 3250, 250))\n",
    "ax2.set_ylabel('ROI (Percent)', color='navy')\n",
    "ax2.set_yticks(np.arange (0, 3250, 250))\n",
    "\n",
    "plt.show()"
   ]
  },
  {
   "cell_type": "code",
   "execution_count": null,
   "metadata": {},
   "outputs": [],
   "source": [
    "# Question: What is total revenue trend per year?\n",
    "df_financials.groupby(['year'])['worldwide_gross_m'].agg('sum')"
   ]
  },
  {
   "cell_type": "code",
   "execution_count": null,
   "metadata": {},
   "outputs": [],
   "source": [
    "# Question: What are the top grossing studios by year?\n",
    "# Create studio df, remove NaN\n",
    "df_studio_tot_rev = df_financials[df_financials['studio'].notnull()]\n",
    "df_studio_tot_rev.year.value_counts(ascending = True)"
   ]
  },
  {
   "cell_type": "code",
   "execution_count": null,
   "metadata": {},
   "outputs": [],
   "source": [
    "# More studio data available from 2010 onwards\n",
    "# Sum of each studio's total revenue from 2010-present\n",
    "df_studio_tot_rev = df_studio_tot_rev[df_studio_tot_rev.year>2010].groupby('studio')['worldwide_gross_m'].agg(['sum'])\n",
    "df_studio_tot_rev.reset_index(inplace = True)\n",
    "df_studio_tot_rev.head()"
   ]
  },
  {
   "cell_type": "code",
   "execution_count": null,
   "metadata": {},
   "outputs": [],
   "source": [
    "# Rename column to 'total_revenue'\n",
    "df_studio_tot_rev = df_studio_tot_rev.rename(columns={\"sum\": \"total_revenue\"})\n",
    "# Sort in alphabetical order by studio\n",
    "df_studio_tot_rev = df_studio_tot_rev.sort_values(by='studio', ascending=True)\n",
    "df_studio_tot_rev"
   ]
  },
  {
   "cell_type": "code",
   "execution_count": null,
   "metadata": {},
   "outputs": [],
   "source": [
    "# Top 20 studios by total revenue, 2010-2019\n",
    "df_studio_tot_rev_2010_2019 = df_studio_tot_rev.sort_values('total_revenue', ascending = False).head(20)\n",
    "df_studio_tot_rev_2010_2019.head()"
   ]
  },
  {
   "cell_type": "code",
   "execution_count": null,
   "metadata": {},
   "outputs": [],
   "source": [
    "fig, ax = plt.subplots(figsize=(14,6))\n",
    "\n",
    "studio = df_studio_tot_rev_2010_2019['studio']\n",
    "tot_revenue = df_studio_tot_rev_2010_2019['total_revenue']\n",
    "ax.barh(studio, tot_revenue, color = 'navy')\n",
    "\n",
    "ax.set_title('Top Studios by Total Revenue (2010-2019)')\n",
    "ax.set_xlabel('Total Revenue (Millions $)')\n",
    "\n",
    "ax.set_xticks(np.arange(0,37500, 2500))\n",
    "\n",
    "ax.invert_yaxis()\n",
    "plt.tight_layout()\n",
    "plt.show()"
   ]
  },
  {
   "cell_type": "code",
   "execution_count": null,
   "metadata": {},
   "outputs": [],
   "source": [
    "## Top studios by revenue from 2015-2019"
   ]
  },
  {
   "cell_type": "code",
   "execution_count": null,
   "metadata": {},
   "outputs": [],
   "source": [
    "# Top grossing studios (year 2015 to present)\n",
    "# Create studio df, remove NaN\n",
    "df_studio_tot_rev_2015_2019 = df_financials[df_financials['studio'].notnull()]\n",
    "df_studio_tot_rev_2015_2019.head()"
   ]
  },
  {
   "cell_type": "code",
   "execution_count": null,
   "metadata": {},
   "outputs": [],
   "source": [
    "df_studio_tot_rev_2015_2019 = df_studio_tot_rev_2015_2019[df_studio_tot_rev_2015_2019.year>2014].groupby('studio')['worldwide_gross_m'].agg(['sum'])\n",
    "df_studio_tot_rev_2015_2019.reset_index(inplace = True)\n",
    "df_studio_tot_rev_2015_2019.head()"
   ]
  },
  {
   "cell_type": "code",
   "execution_count": null,
   "metadata": {},
   "outputs": [],
   "source": [
    "df_studio_tot_rev_2015_2019 = df_studio_tot_rev_2015_2019.rename(columns={\"sum\": \"total_revenue\"})\n",
    "df_studio_tot_rev_2015_2019.head()"
   ]
  },
  {
   "cell_type": "code",
   "execution_count": null,
   "metadata": {},
   "outputs": [],
   "source": [
    "# Top 25 studios by total revenue, 2015-2019\n",
    "df_studio_tot_rev_2015_2019 = df_studio_tot_rev_2015_2019.sort_values('total_revenue', ascending = False).head(20)\n",
    "df_studio_tot_rev_2015_2019.head()"
   ]
  },
  {
   "cell_type": "code",
   "execution_count": null,
   "metadata": {},
   "outputs": [],
   "source": [
    "fig, ax = plt.subplots(figsize=(14,6))\n",
    "\n",
    "studio_2015_2019 = df_studio_tot_rev_2015_2019['studio']\n",
    "tot_revenue_2015_2019 = df_studio_tot_rev_2015_2019['total_revenue']\n",
    "ax.barh(studio_2015_2019, tot_revenue_2015_2019, color = 'navy')\n",
    "\n",
    "ax.set_title('Top Studios by Total Revenue (2015-2019)')\n",
    "ax.set_xlabel('Total Revenue (Millions $)')\n",
    "\n",
    "ax.set_xticks(np.arange(0,27500, 2500))\n",
    "\n",
    "ax.invert_yaxis()\n",
    "plt.tight_layout()\n",
    "plt.show()"
   ]
  },
  {
   "cell_type": "code",
   "execution_count": null,
   "metadata": {},
   "outputs": [],
   "source": [
    "# Plot top studios' revenue by year"
   ]
  },
  {
   "cell_type": "code",
   "execution_count": null,
   "metadata": {},
   "outputs": [],
   "source": [
    "# Top grossing studios by year: 2010-present\n",
    "# Create studio df, remove NaN\n",
    "\n",
    "df_studio_tot_rev_annual = df_financials[df_financials['studio'].notnull()]\n",
    "df_studio_tot_rev_annual = df_studio_tot_rev_annual[df_studio_tot_rev_annual.year>2009]\n",
    "df_studio_tot_rev_annual.reset_index(inplace = True)\n",
    "df_studio_tot_rev_annual.head()"
   ]
  },
  {
   "cell_type": "code",
   "execution_count": null,
   "metadata": {},
   "outputs": [],
   "source": [
    "# Create a subset\n",
    "df_studio_tot_rev_annual = df_studio_tot_rev_annual.loc[:, ['studio', 'year', 'worldwide_gross_m']]\n",
    "df_studio_tot_rev_annual.head()"
   ]
  },
  {
   "cell_type": "code",
   "execution_count": null,
   "metadata": {},
   "outputs": [],
   "source": [
    "# Separate top 6 studios from others\n",
    "top6_studios = ['BV', 'Uni.', 'Fox', 'WB', 'Sony', 'Par.']\n",
    "\n",
    "df_top6_studios_tot_rev_annual = df_studio_tot_rev_annual.loc[df_studio_tot_rev_annual['studio'].isin(top6_studios)]\n",
    "df_top6_studios_tot_rev_annual.head()\n"
   ]
  },
  {
   "cell_type": "code",
   "execution_count": null,
   "metadata": {},
   "outputs": [],
   "source": [
    "# Group by multiple categories\n",
    "df_top6_studios_tot_rev_annual = df_top6_studios_tot_rev_annual.groupby(['year', 'studio']).sum().unstack()\n",
    "df_top6_studios_tot_rev_annual.tail()"
   ]
  },
  {
   "cell_type": "code",
   "execution_count": null,
   "metadata": {},
   "outputs": [],
   "source": [
    "from matplotlib import cm\n",
    "viridis = cm.get_cmap('viridis', 6)\n",
    "\n",
    "fig, ax = plt.subplots(figsize=(12,8))\n",
    "\n",
    "df_top6_studios_tot_rev_annual.plot(kind='bar', stacked='True', color=viridis.colors, ax=ax)\n",
    "ax.legend(['BV', 'Fox', 'Par.', 'Sony', 'Uni.', 'WB'], loc='center left', bbox_to_anchor=(1, 0.5))\n",
    "ax.set_title('Top Six Studios - Gross Revenue (Millions $)')\n",
    "ax.set_ylabel('Millions $')\n",
    "ax.set_xlabel('Year')\n",
    "plt.show()\n"
   ]
  },
  {
   "cell_type": "code",
   "execution_count": null,
   "metadata": {},
   "outputs": [],
   "source": [
    "## QUESTIONS - PART 2: INDUSTRY TRENDS: IS MOVIE INDUSTRY PROFITABLE? Analysis w/o outliers and from year 2000 - present\n",
    "\n",
    "# Create ROI df, remove NaN\n",
    "df_roi = df_financials[df_financials['ROI'].notnull()]\n",
    "display(df_financials.describe())\n",
    "df_roi.describe()"
   ]
  },
  {
   "cell_type": "code",
   "execution_count": null,
   "metadata": {},
   "outputs": [],
   "source": [
    "# Outlier detection\n",
    "min_roi_threshold, max_roi_threshold = df_roi['ROI'].quantile([0.00, 0.90]).round(2)\n",
    "min_roi_threshold, max_roi_threshold"
   ]
  },
  {
   "cell_type": "code",
   "execution_count": null,
   "metadata": {},
   "outputs": [],
   "source": [
    "df_roi[df_roi['ROI'] > max_roi_threshold]"
   ]
  },
  {
   "cell_type": "code",
   "execution_count": null,
   "metadata": {},
   "outputs": [],
   "source": [
    "# new DF without ROI outliers and with movies from year 2000 - present\n",
    "df_roi = df_roi[(df_roi['ROI'] < max_roi_threshold) & \n",
    "                       (df_roi['ROI'] > min_roi_threshold) & \n",
    "                       (df_roi['year'] >= 2000)]\n",
    "display(df_roi.sort_values('ROI', ascending = False).head(10))"
   ]
  },
  {
   "cell_type": "code",
   "execution_count": null,
   "metadata": {},
   "outputs": [],
   "source": [
    "fig, ax = plt.subplots(figsize=(6,6))\n",
    "ax.hist(df_roi['ROI'], bins='auto', alpha = 0.5)\n",
    "ax.set_title('Distribution of ROI')\n",
    "ax.set_xlabel('ROI')\n",
    "ax.set_ylabel('Number of Movies')\n",
    "ax.axvline(df_roi['ROI'].mean(), color = 'black')\n",
    "ax.axvline(df_roi['ROI'].median(), color = 'red')"
   ]
  },
  {
   "cell_type": "code",
   "execution_count": null,
   "metadata": {},
   "outputs": [],
   "source": [
    "display(df_roi.ROI.apply(['mean', 'median', 'std']))"
   ]
  },
  {
   "cell_type": "code",
   "execution_count": null,
   "metadata": {},
   "outputs": [],
   "source": [
    "df_roi.boxplot(column=['ROI'])"
   ]
  },
  {
   "cell_type": "code",
   "execution_count": null,
   "metadata": {},
   "outputs": [],
   "source": [
    "#create new ROI buckets column \n",
    "def ROI_buckets(r):\n",
    "    if r < 0: \n",
    "        return 'Not profitable'\n",
    "    if r <= 1 : \n",
    "        return '0 - 100%'\n",
    "    elif r <= 2: \n",
    "        return '100% - 200%'\n",
    "    elif r <= 3: \n",
    "        return '200% - 300%'\n",
    "    elif r <= 4: \n",
    "        return '300% - 400%'\n",
    "    elif r <= 5: \n",
    "        return '400% - 500%'\n",
    "    elif r <= 6: \n",
    "        return '500% - 600%'    \n",
    "    elif r <= 7:\n",
    "        return '600% - 700&'\n",
    "    elif r <= 8:\n",
    "        return '700% - 800%'\n",
    "    else: \n",
    "        return 'Other'\n",
    "\n",
    "df_roi['ROI_buckets'] = df_roi['ROI'].apply(ROI_buckets)\n",
    "display(df_roi.head(10))\n",
    "df_roi.info()"
   ]
  },
  {
   "cell_type": "code",
   "execution_count": null,
   "metadata": {},
   "outputs": [],
   "source": [
    "#Distribution of ROI by year\n",
    "df_roi_yr = df_roi.groupby('year')['ROI_buckets'].value_counts(normalize = True)\n",
    "df_roi_yr.tail(10)"
   ]
  },
  {
   "cell_type": "code",
   "execution_count": null,
   "metadata": {},
   "outputs": [],
   "source": [
    "# Analysis of ROI of movies in 90th percentile by ROI and after year 2000 (3,676 total movies)\n",
    "df_yr_median = df_roi.groupby(['year']).agg(['median'])\n",
    "df_yr_median"
   ]
  },
  {
   "cell_type": "code",
   "execution_count": null,
   "metadata": {},
   "outputs": [],
   "source": [
    "df_yr_median_roi = df_yr_median['ROIpct']\n",
    "df_yr_median_roi = df_yr_median_roi.rename(columns={\"median\": \"ROIpct_median\"})\n",
    "df_yr_median_roi.columns"
   ]
  },
  {
   "cell_type": "code",
   "execution_count": null,
   "metadata": {},
   "outputs": [],
   "source": [
    "df_yr_median_roi.head()"
   ]
  },
  {
   "cell_type": "code",
   "execution_count": null,
   "metadata": {},
   "outputs": [],
   "source": [
    "# Graph industry median and mean ROI \n",
    "\n",
    "fig, ax = plt.subplots(figsize=(10,8))\n",
    "\n",
    "ROIpct_yr_median = df_yr_median_roi.ROIpct_median\n",
    "yr = df_yr_median_roi.index\n",
    "\n",
    "ax.bar(yr, ROIpct_yr_median, width=0.8, color = 'navy')\n",
    "ax.set_title('Median ROI - Movies in 90th percentile')\n",
    "ax.set_xlabel('Year')\n",
    "ax.set_ylabel('Median ROI (%)')\n",
    "\n",
    "ax.set_xticks(np.arange(2000,2020, 1))\n",
    "ax.set_yticks(np.arange(0,130,10))\n",
    "\n",
    "plt.style.use('ggplot')\n",
    "plt.tight_layout()\n",
    "plt.show()"
   ]
  },
  {
   "cell_type": "code",
   "execution_count": null,
   "metadata": {},
   "outputs": [],
   "source": [
    "df_roi_pct = ((df_roi.groupby(['year', 'ROI_buckets'])['ROI_buckets'].count()/df_roi.groupby(['year'])['ROI_buckets'].count()))*100\n",
    "display(df_roi_pct.tail(8))"
   ]
  },
  {
   "cell_type": "code",
   "execution_count": null,
   "metadata": {},
   "outputs": [],
   "source": [
    "viridis = cm.get_cmap('viridis', 9)\n",
    "\n",
    "ax = df_roi_pct.unstack().plot.bar(stacked = True, figsize=(14,10), color=viridis.colors)\n",
    "\n",
    "ax.set_title('ROI - Movies in 90th percentile', fontsize = 18)\n",
    "ax.set_xlabel('Year', fontsize = 14)\n",
    "ax.set_ylabel('Percent of movies (%)', fontsize = 14)\n",
    "ax.yaxis.set_ticks(np.arange(0, 110, 10))\n",
    "ax.tick_params(labeltop=False, labelright=True)\n",
    "\n",
    "# Reverse legend order\n",
    "handles, labels = ax.get_legend_handles_labels()\n",
    "ax.legend(reversed(handles), reversed(labels), loc='center left', bbox_to_anchor=(1.05,0.5))\n",
    "\n",
    "plt.show()"
   ]
  },
  {
   "cell_type": "code",
   "execution_count": null,
   "metadata": {},
   "outputs": [],
   "source": [
    "## Explore distributions and relationships\n",
    "df_roi.plot.scatter(x = 'ROIpct',\n",
    "                       y = 'production_budget', \n",
    "                       c = 'blue', \n",
    "                   figsize = (10,6))\n",
    "\n",
    "from scipy.stats import linregress\n",
    "x = df_roi.ROIpct\n",
    "y = df_roi.production_budget\n",
    "stats = linregress(x, y)\n",
    "\n",
    "m = stats.slope\n",
    "b = stats.intercept\n",
    "\n",
    "# Set the linewidth on the regression line to 3px\n",
    "plt.plot(x, m * x + b, color=\"red\", linewidth=3)\n",
    "\n",
    "plt.title('Relationship between ROI and Production Budget', fontsize = 12)\n",
    "plt.xlabel('ROI (%)', fontsize = 12)\n",
    "#plt.ylabel('Production Budget ($)', fontsize = 12)\n",
    "\n",
    "plt.show()"
   ]
  },
  {
   "cell_type": "code",
   "execution_count": null,
   "metadata": {},
   "outputs": [],
   "source": [
    "df_roi.groupby('ROI_buckets').production_budget_m.median().plot.bar(figsize=(10,6))\n",
    "plt.title('Median Production Budget (Millions $)', fontsize = 12)\n",
    "plt.xlabel('ROI', fontsize = 12)\n",
    "plt.yticks(np.arange(0, 45, 5))\n",
    "#plt.ylabel('Median Production Budget ($)', fontsize = 12)\n",
    "plt.show()\n"
   ]
  },
  {
   "cell_type": "code",
   "execution_count": null,
   "metadata": {},
   "outputs": [],
   "source": [
    "df_yr_median.reset_index(inplace = True)\n",
    "df_yr_median.head()"
   ]
  },
  {
   "cell_type": "code",
   "execution_count": null,
   "metadata": {},
   "outputs": [],
   "source": [
    "yr = df_yr_median[['year']]\n",
    "worldwide_gross = df_yr_median[['worldwide_gross_m']]\n",
    "production_budget = df_yr_median[['production_budget_m']]\n",
    "\n",
    "df_roi_comp = df_yr_median[['year','worldwide_gross_m','production_budget_m', 'domestic_gross_m', 'foreign_gross_m']]\n",
    "df_roi_comp = df_roi_comp.rename(columns = {'year':'Year', 'worldwide_gross_m': 'Gross Revenue', 'production_budget_m': 'Production Budget', 'domestic_gross_m': 'Domestic Gross', 'foreign_gross_m': 'Foreign Gross'})\n",
    "df_roi_comp.head()"
   ]
  },
  {
   "cell_type": "code",
   "execution_count": null,
   "metadata": {},
   "outputs": [],
   "source": [
    "# Graph gross revenue and production budget by year\n",
    "\n",
    "df_roi_comp.plot(x=\"Year\", y=[\"Production Budget\", \"Gross Revenue\"], kind=\"bar\", figsize=(8,8))\n",
    "plt.title('Gross Revenue and Production Budget (Millions $)', fontsize = 12)\n",
    "plt.xlabel('Year', fontsize = 12)\n",
    "plt.yticks(np.arange (0, 80, 5))\n",
    "\n",
    "plt.legend()"
   ]
  },
  {
   "cell_type": "code",
   "execution_count": null,
   "metadata": {},
   "outputs": [],
   "source": [
    "# Breakdown of domestic and foreign gross revenue\n",
    "\n",
    "df_roi_comp.plot(x=\"Year\", y=[\"Domestic Gross\", \"Foreign Gross\"], figsize=(12,8))\n",
    "plt.title('Gross Revenue and Domestic Revenue (Millions $)', fontsize = 12)\n",
    "plt.xlabel('Year', fontsize = 12)\n",
    "plt.xticks(np.arange (2000, 2020, 1))\n",
    "plt.yticks(np.arange (0, 50, 5))\n",
    "plt.legend()\n",
    "plt.show()"
   ]
  },
  {
   "cell_type": "code",
   "execution_count": null,
   "metadata": {},
   "outputs": [],
   "source": [
    "df_roi_comp_from2014 = df_yr_median[['year','worldwide_gross_m','production_budget_m']][df_yr_median['year']>=2014]\n",
    "df_roi_comp_from2014.head()"
   ]
  },
  {
   "cell_type": "code",
   "execution_count": null,
   "metadata": {},
   "outputs": [],
   "source": [
    "df_roi_comp_from2014.plot.scatter(x = 'worldwide_gross_m',\n",
    "                       y = 'production_budget_m', \n",
    "                       c = 'blue', \n",
    "                   figsize = (10,6))\n",
    "\n",
    "from scipy.stats import linregress\n",
    "x = df_roi_comp_from2014.worldwide_gross_m\n",
    "y = df_roi_comp_from2014.production_budget_m\n",
    "\n",
    "m = stats.slope\n",
    "b = stats.intercept\n",
    "\n",
    "plt.title('Relationship between Gross Revenue and Production Budget', fontsize = 12)\n",
    "#plt.xlabel('Gross Revenue', fontsize = 12)\n",
    "#plt.ylabel('Production Budget', fontsize = 12)\n",
    "\n",
    "plt.show()"
   ]
  },
  {
   "cell_type": "code",
   "execution_count": null,
   "metadata": {},
   "outputs": [],
   "source": [
    "## ROI and year movie released\n",
    "df_yr_median.plot.bar(x = 'year', y = 'ROIpct', \n",
    "                       color = 'navy', figsize = (10,8), legend=None)\n",
    "\n",
    "plt.title('Median ROI by Year (%)', fontsize = 12)\n",
    "plt.xlabel('Year', fontsize = 12)\n",
    "plt.yticks(np.arange (0, 160, 20))\n",
    "\n",
    "plt.show()\n"
   ]
  },
  {
   "cell_type": "code",
   "execution_count": null,
   "metadata": {},
   "outputs": [],
   "source": [
    "#Distribution of ROI by month\n",
    "df_roi_mo_median = df_roi.groupby(['month_num']).agg(['median'])\n",
    "df_roi_mo_median.head()"
   ]
  },
  {
   "cell_type": "code",
   "execution_count": null,
   "metadata": {},
   "outputs": [],
   "source": [
    "df_roi_mo_median.reset_index(inplace = True)"
   ]
  },
  {
   "cell_type": "code",
   "execution_count": null,
   "metadata": {},
   "outputs": [],
   "source": [
    "df_roi_mo_median['month'] = pd.to_datetime(df_roi_mo_median['month_num'], format='%m').dt.month_name().str.slice(stop=3)\n",
    "df_roi_mo_median.head()"
   ]
  },
  {
   "cell_type": "code",
   "execution_count": null,
   "metadata": {},
   "outputs": [],
   "source": [
    "df_roi_mo_median.plot.bar(x='month', y='ROIpct', color = 'green', figsize=(10,6), legend=None)\n",
    "plt.title('Median ROI by Month (%)', fontsize = 12)\n",
    "plt.xlabel('Month', fontsize = 12)\n",
    "plt.yticks(np.arange (0, 120, 20))\n",
    "\n",
    "plt.show()"
   ]
  },
  {
   "cell_type": "code",
   "execution_count": null,
   "metadata": {},
   "outputs": [],
   "source": [
    "# Which studios produce high ROI movies?"
   ]
  },
  {
   "cell_type": "code",
   "execution_count": null,
   "metadata": {},
   "outputs": [],
   "source": [
    "df_roi['studio'].nunique()"
   ]
  },
  {
   "cell_type": "code",
   "execution_count": null,
   "metadata": {},
   "outputs": [],
   "source": [
    "# Create new df - top studios by ROI\n",
    "df_studio_roi = df_roi.dropna(subset=['studio'])\n",
    "df_studio_roi.head()"
   ]
  },
  {
   "cell_type": "code",
   "execution_count": null,
   "metadata": {},
   "outputs": [],
   "source": [
    "df_studio_roi = df_roi.sort_values('ROIpct', ascending = False)\n",
    "df_studio_roi = df_roi.groupby('studio')['ROIpct'].agg(['median'])\n",
    "df_studio_roi.reset_index(inplace = True)"
   ]
  },
  {
   "cell_type": "code",
   "execution_count": null,
   "metadata": {},
   "outputs": [],
   "source": [
    "df_studio_roi.rename(columns = {'median':'ROIpct_median'}, inplace = True)"
   ]
  },
  {
   "cell_type": "code",
   "execution_count": null,
   "metadata": {},
   "outputs": [],
   "source": [
    "df_studio_roi.sort_values('ROIpct_median', ascending = False)"
   ]
  },
  {
   "cell_type": "code",
   "execution_count": null,
   "metadata": {},
   "outputs": [],
   "source": [
    "df_studio_roi_top25 = df_studio_roi.sort_values('ROIpct_median', ascending = False).head(25)\n",
    "df_studio_roi_top50 = df_studio_roi.sort_values('ROIpct_median', ascending = False).head(50)\n",
    "df_studio_positiveROI = df_studio_roi[df_studio_roi.ROIpct_median>100].sort_values('ROIpct_median', ascending = False)\n",
    "#df_financials[df_financials.worldwide_gross_m >= 8.938658e+02].sort_values('worldwide_gross_m', ascending = False)\n",
    "\n",
    "display(df_studio_roi_top25.shape)\n",
    "display(df_studio_roi_top50.shape)\n",
    "display(df_studio_positiveROI.shape)"
   ]
  },
  {
   "cell_type": "code",
   "execution_count": null,
   "metadata": {},
   "outputs": [],
   "source": [
    "df_studio_positiveROI.plot.barh(x='studio', y='ROIpct_median', color = 'navy', figsize=(10,8), legend=None)\n",
    "\n",
    "plt.title('Top Studios by ROI')\n",
    "plt.xlabel('Median ROI (%)')\n",
    "plt.ylabel=('Studio')\n",
    "\n",
    "plt.gca().invert_yaxis()\n",
    "plt.tight_layout()\n",
    "plt.show()"
   ]
  },
  {
   "cell_type": "code",
   "execution_count": null,
   "metadata": {},
   "outputs": [],
   "source": [
    "## QUESTIONS - PART 3: WHAT IS THE BUSINESS MODEL OF TOP STUDIOS? (Movie runtime, genre)"
   ]
  },
  {
   "cell_type": "code",
   "execution_count": null,
   "metadata": {},
   "outputs": [],
   "source": [
    "# Explore df4 and df8"
   ]
  },
  {
   "cell_type": "code",
   "execution_count": null,
   "metadata": {},
   "outputs": [],
   "source": [
    "df4.columns"
   ]
  },
  {
   "cell_type": "code",
   "execution_count": null,
   "metadata": {},
   "outputs": [],
   "source": [
    "df8.columns"
   ]
  },
  {
   "cell_type": "code",
   "execution_count": null,
   "metadata": {},
   "outputs": [],
   "source": [
    "df8.studio.value_counts().nlargest(25)"
   ]
  },
  {
   "cell_type": "code",
   "execution_count": null,
   "metadata": {},
   "outputs": [],
   "source": [
    "# Explore genres, runtimes for top revenue grossing studios"
   ]
  },
  {
   "cell_type": "code",
   "execution_count": null,
   "metadata": {},
   "outputs": [],
   "source": [
    "#Create new df - studios' business model (genres, runtime for top revenue grossing studios)\n",
    "df_topstudio_model = df8[(df8['studio'] == 'Universal Pictures') | \n",
    "                         (df8['studio'] == 'Paramount Pictures') |\n",
    "                         (df8['studio'] == '20th Century Fox') |\n",
    "                         (df8['studio'] == 'Sony Pictures Classics') |\n",
    "                         (df8['studio'] == 'Warner Bros. Pictures') |\n",
    "                        (df8['studio'] == 'Warner Bros.') |\n",
    "                        (df8['studio'] =='Buenva Vista Pictures') |\n",
    "                        (df8['studio'] == 'Walt Disney Pictures')]\n",
    "\n",
    "df_topstudio_model.head()\n"
   ]
  },
  {
   "cell_type": "code",
   "execution_count": null,
   "metadata": {},
   "outputs": [],
   "source": [
    "# Clean up studio names\n",
    "df_topstudio_model['studio'] = df_topstudio_model['studio'].replace({'Warner Bros.' : 'Warner Bros. Pictures'})\n",
    "df_topstudio_model['studio'] = df_topstudio_model['studio'].replace({'Walt Disney Pictures' : 'Buena Vista Pictures'})\n",
    "df_topstudio_model.head(10)"
   ]
  },
  {
   "cell_type": "code",
   "execution_count": null,
   "metadata": {},
   "outputs": [],
   "source": [
    "# Average runtime by studio\n",
    "df_topstudio_model.info()"
   ]
  },
  {
   "cell_type": "code",
   "execution_count": null,
   "metadata": {},
   "outputs": [],
   "source": [
    "df_topstudio_model = df_topstudio_model.set_index('studio')\n",
    "df_topstudio_model.head()"
   ]
  },
  {
   "cell_type": "code",
   "execution_count": null,
   "metadata": {},
   "outputs": [],
   "source": [
    "df_topstudio_model['runtime'] = df_topstudio_model.runtime.str.split(\" \", n = 1, expand = True)\n",
    "df_topstudio_model = df_topstudio_model.rename(columns={'runtime': 'runtime_minutes'})\n",
    "df_topstudio_model.head()"
   ]
  },
  {
   "cell_type": "code",
   "execution_count": null,
   "metadata": {},
   "outputs": [],
   "source": [
    "df_topstudio_model.info()"
   ]
  },
  {
   "cell_type": "code",
   "execution_count": null,
   "metadata": {},
   "outputs": [],
   "source": [
    "#Convert runtime_minutes col to int\n",
    "df_topstudio_model_runtime = pd.to_numeric(df_topstudio_model.runtime_minutes, errors='coerce')\n",
    "df_topstudio_model_runtime = df_topstudio_model_runtime.reset_index()\n",
    "df_topstudio_model_runtime.head()"
   ]
  },
  {
   "cell_type": "code",
   "execution_count": null,
   "metadata": {},
   "outputs": [],
   "source": [
    "df_topstudio_model_runtime.describe()"
   ]
  },
  {
   "cell_type": "code",
   "execution_count": null,
   "metadata": {},
   "outputs": [],
   "source": [
    "df_topstudio_model_runtime = df_topstudio_model_runtime.groupby('studio')['runtime_minutes'].agg('mean')\n",
    "df_topstudio_model_runtime = df_topstudio_model_runtime.reset_index()\n",
    "df_topstudio_model_runtime.head()"
   ]
  },
  {
   "cell_type": "code",
   "execution_count": null,
   "metadata": {},
   "outputs": [],
   "source": [
    "df_topstudio_model_runtime = df_topstudio_model_runtime.sort_values(by = 'runtime_minutes', ascending = False)\n",
    "df_topstudio_model_runtime.head()"
   ]
  },
  {
   "cell_type": "code",
   "execution_count": null,
   "metadata": {},
   "outputs": [],
   "source": [
    "df_topstudio_model_runtime.plot.barh(x='studio',  y = 'runtime_minutes', color = 'navy', figsize=(6, 8), legend=None)\n",
    "\n",
    "plt.title('Average Runtime by Studio')\n",
    "plt.xlabel('Minutes')\n",
    "\n",
    "plt.gca().invert_yaxis()\n",
    "plt.tight_layout()\n",
    "plt.show()"
   ]
  },
  {
   "cell_type": "code",
   "execution_count": null,
   "metadata": {},
   "outputs": [],
   "source": [
    "# Create new df splitting genres\n",
    "df_topstudio_model_genres = df_topstudio_model\n",
    "df_topstudio_model_genres.head()"
   ]
  },
  {
   "cell_type": "code",
   "execution_count": null,
   "metadata": {},
   "outputs": [],
   "source": [
    "df_topstudio_model_genres = df_topstudio_model_genres['genre'].str.split(\"|\", n=10, expand = True).rename(columns = lambda x: f\"genre_{x+1}\")\n",
    "df_topstudio_model_genres.head(10)"
   ]
  },
  {
   "cell_type": "code",
   "execution_count": null,
   "metadata": {},
   "outputs": [],
   "source": [
    "# Genre value counts by studio"
   ]
  },
  {
   "cell_type": "code",
   "execution_count": null,
   "metadata": {},
   "outputs": [],
   "source": [
    "genres_pct = df_topstudio_model_genres.stack().value_counts(normalize=True, dropna=True).mul(100).round(1)"
   ]
  },
  {
   "cell_type": "code",
   "execution_count": null,
   "metadata": {},
   "outputs": [],
   "source": [
    "genres_pct"
   ]
  },
  {
   "cell_type": "code",
   "execution_count": null,
   "metadata": {},
   "outputs": [],
   "source": [
    "genres_pct.plot(kind = 'barh', color = 'navy', figsize=(6,8))\n",
    "plt.title('Genres Produced by Top Studios')\n",
    "plt.gca().invert_yaxis()\n",
    "plt.xlabel('Percent of films produced')\n",
    "plt.show()"
   ]
  },
  {
   "cell_type": "code",
   "execution_count": null,
   "metadata": {},
   "outputs": [],
   "source": []
  }
 ],
 "metadata": {
  "kernelspec": {
   "display_name": "Python 3",
   "language": "python",
   "name": "python3"
  },
  "language_info": {
   "codemirror_mode": {
    "name": "ipython",
    "version": 3
   },
   "file_extension": ".py",
   "mimetype": "text/x-python",
   "name": "python",
   "nbconvert_exporter": "python",
   "pygments_lexer": "ipython3",
   "version": "3.6.9"
  }
 },
 "nbformat": 4,
 "nbformat_minor": 2
}
